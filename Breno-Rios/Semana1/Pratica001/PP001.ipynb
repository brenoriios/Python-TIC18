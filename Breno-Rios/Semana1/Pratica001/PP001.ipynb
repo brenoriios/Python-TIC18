{
 "cells": [
  {
   "cell_type": "markdown",
   "metadata": {},
   "source": [
    "# 1 -  Crie um repositório para as atividades deste módulo\n",
    "\n",
    "Este mesmo [repositório](https://github.com/brenoriios/Python-TIC18/tree/main)."
   ]
  },
  {
   "cell_type": "markdown",
   "metadata": {},
   "source": [
    "# 2 - Manipulação de variáveis de tipo inteiro, explorando as características e os limites\n",
    "\n",
    "## 2.1 - Demonstre como funcionam os operadores aritméticos e aritméticos compostos em Python e destaque as principais novidades e diferenças em relação ao conjunto de operadores com inteiros  disponíveis em C/C++\n",
    "\n",
    "Os operadores aritméticos em Python são usados para realizar operações aritméticas básicas, como soma, subtração, multiplicação, divisão e módulo.\n",
    "\n",
    "Os seguintes operadores aritméticos estão disponíveis em Python:\n",
    "\n",
    "### Soma"
   ]
  },
  {
   "cell_type": "code",
   "execution_count": 95,
   "metadata": {},
   "outputs": [
    {
     "name": "stdout",
     "output_type": "stream",
     "text": [
      "15\n"
     ]
    }
   ],
   "source": [
    "a = 10\n",
    "b = 5\n",
    "\n",
    "# Soma\n",
    "soma = a + b\n",
    "print(soma) # 15"
   ]
  },
  {
   "cell_type": "markdown",
   "metadata": {},
   "source": [
    "### Subtração"
   ]
  },
  {
   "cell_type": "code",
   "execution_count": 96,
   "metadata": {},
   "outputs": [
    {
     "name": "stdout",
     "output_type": "stream",
     "text": [
      "5\n"
     ]
    }
   ],
   "source": [
    "a = 10\n",
    "b = 5\n",
    "\n",
    "# Subtração\n",
    "subtracao = a - b\n",
    "print(subtracao) # 5"
   ]
  },
  {
   "cell_type": "markdown",
   "metadata": {},
   "source": [
    "### Multiplicação"
   ]
  },
  {
   "cell_type": "code",
   "execution_count": 97,
   "metadata": {},
   "outputs": [
    {
     "name": "stdout",
     "output_type": "stream",
     "text": [
      "50\n"
     ]
    }
   ],
   "source": [
    "a = 10\n",
    "b = 5\n",
    "\n",
    "multiplicacao = a * b\n",
    "print(multiplicacao) # 50"
   ]
  },
  {
   "cell_type": "markdown",
   "metadata": {},
   "source": [
    "### Divisão"
   ]
  },
  {
   "cell_type": "code",
   "execution_count": 98,
   "metadata": {},
   "outputs": [
    {
     "name": "stdout",
     "output_type": "stream",
     "text": [
      "2.0\n"
     ]
    }
   ],
   "source": [
    "a = 10\n",
    "b = 5\n",
    "\n",
    "divisao = a / b\n",
    "print(divisao) # 2.0"
   ]
  },
  {
   "cell_type": "markdown",
   "metadata": {},
   "source": [
    "### Divisão Inteira"
   ]
  },
  {
   "cell_type": "code",
   "execution_count": 99,
   "metadata": {},
   "outputs": [
    {
     "name": "stdout",
     "output_type": "stream",
     "text": [
      "2\n"
     ]
    }
   ],
   "source": [
    "a = 10\n",
    "b = 5\n",
    "\n",
    "divisaoInteira = a // b\n",
    "print(divisaoInteira) # 2"
   ]
  },
  {
   "cell_type": "markdown",
   "metadata": {},
   "source": [
    "### Módulo (resto da divisão)"
   ]
  },
  {
   "cell_type": "code",
   "execution_count": 100,
   "metadata": {},
   "outputs": [
    {
     "name": "stdout",
     "output_type": "stream",
     "text": [
      "3\n"
     ]
    }
   ],
   "source": [
    "a = 15\n",
    "b = 4\n",
    "\n",
    "modulo = a % b\n",
    "print(modulo) # 3"
   ]
  },
  {
   "cell_type": "markdown",
   "metadata": {},
   "source": [
    "Os operadores aritméticos compostos em Python são usados para realizar operações aritméticas de forma abreviada.\n",
    "\n",
    "Os seguintes operadores aritméticos compostos estão disponíveis em Python:\n",
    "\n",
    "### Soma e Atribuição"
   ]
  },
  {
   "cell_type": "code",
   "execution_count": 101,
   "metadata": {},
   "outputs": [
    {
     "name": "stdout",
     "output_type": "stream",
     "text": [
      "15\n"
     ]
    }
   ],
   "source": [
    "a = 10\n",
    "b = 5\n",
    "\n",
    "# Soma e atribui\n",
    "a += b\n",
    "print(a) # 15"
   ]
  },
  {
   "cell_type": "markdown",
   "metadata": {},
   "source": [
    "### Subtração e Atribuição"
   ]
  },
  {
   "cell_type": "code",
   "execution_count": 102,
   "metadata": {},
   "outputs": [
    {
     "name": "stdout",
     "output_type": "stream",
     "text": [
      "5\n"
     ]
    }
   ],
   "source": [
    "a = 10\n",
    "b = 5\n",
    "\n",
    "# Subtrai e atribui\n",
    "a -= b\n",
    "print(a) # 5"
   ]
  },
  {
   "cell_type": "markdown",
   "metadata": {},
   "source": [
    "### Multiplicação e Atribuição"
   ]
  },
  {
   "cell_type": "code",
   "execution_count": 103,
   "metadata": {},
   "outputs": [
    {
     "name": "stdout",
     "output_type": "stream",
     "text": [
      "50\n"
     ]
    }
   ],
   "source": [
    "a = 10\n",
    "b = 5\n",
    "\n",
    "# Multiplica e atribui\n",
    "a *= b\n",
    "print(a) # 50"
   ]
  },
  {
   "cell_type": "markdown",
   "metadata": {},
   "source": [
    "### Divisão e Atribuição"
   ]
  },
  {
   "cell_type": "code",
   "execution_count": 104,
   "metadata": {},
   "outputs": [
    {
     "name": "stdout",
     "output_type": "stream",
     "text": [
      "2.0\n"
     ]
    }
   ],
   "source": [
    "a = 10\n",
    "b = 5\n",
    "\n",
    "# Divide e atribui\n",
    "a /= b\n",
    "print(a) # 2.0"
   ]
  },
  {
   "cell_type": "markdown",
   "metadata": {},
   "source": [
    "### Divisão Inteira e Atribuição"
   ]
  },
  {
   "cell_type": "code",
   "execution_count": 105,
   "metadata": {},
   "outputs": [
    {
     "name": "stdout",
     "output_type": "stream",
     "text": [
      "2\n"
     ]
    }
   ],
   "source": [
    "a = 10\n",
    "b = 5\n",
    "\n",
    "# Divisão inteira e atribui\n",
    "a //= b\n",
    "print(a) # 2"
   ]
  },
  {
   "cell_type": "markdown",
   "metadata": {},
   "source": [
    "### Módulo (resto da divisão) e Atribuição"
   ]
  },
  {
   "cell_type": "code",
   "execution_count": 106,
   "metadata": {},
   "outputs": [
    {
     "name": "stdout",
     "output_type": "stream",
     "text": [
      "0\n"
     ]
    }
   ],
   "source": [
    "a = 10\n",
    "b = 5\n",
    "\n",
    "# Módulo e atribui\n",
    "a %= b\n",
    "print(a) # 0"
   ]
  },
  {
   "cell_type": "markdown",
   "metadata": {},
   "source": [
    "Os operadores aritméticos em Python são semelhantes aos operadores aritméticos em C/C++.\n",
    "\n",
    "Uma diferença que é possível notar, no entanto, diz respeito ao operador de `Divisão` que sempre retorna um valor de ponto flutuante, mesmo quando existe uma divisão que não gera resto. O mesmo é válido para o operador composto de `Divisão e Atribuição`\n",
    "\n",
    "Os operadores de divisão inteira `//` e potenciação `**` são novidades do Python e não existem nas linguagens C/C++."
   ]
  },
  {
   "cell_type": "markdown",
   "metadata": {},
   "source": [
    "## 2.2 - Demonstre a possibilidade de representar números inteiros significativamente grandes calculando o fatorial de 30 e comparando o resultado com o maior valor inteiro que pode ser representado em C/C++"
   ]
  },
  {
   "cell_type": "code",
   "execution_count": 107,
   "metadata": {},
   "outputs": [
    {
     "name": "stdout",
     "output_type": "stream",
     "text": [
      "265252859812191058636308480000000\n",
      "False\n"
     ]
    }
   ],
   "source": [
    "import math \n",
    "\n",
    "print(math.factorial(30))\n",
    "print(math.factorial(30) < 18446744073709551615)"
   ]
  },
  {
   "cell_type": "markdown",
   "metadata": {},
   "source": [
    "O valor do fatorial de 30 resultou em 265.252.859.812.191.058.636.308.480.000.000 em python enquanto que em C/C++ o maior valor inteiro que pode ser representado até mesmo usando `unsigned long long int` é de 18.446.744.073.709.551.615 que é bem menor do que o resultado usando Python.\n",
    "\n",
    "| Linguagem | Valor                                       |\n",
    "| --------- | ------------------------------------------- |\n",
    "| Python    | 265.252.859.812.191.058.636.308.480.000.000 |\n",
    "| c++       | 18.446.744.073.709.551.615 (máximo)         |"
   ]
  },
  {
   "cell_type": "markdown",
   "metadata": {},
   "source": [
    "## 2.3 - As variáveis numéricas são imutáveis. Demonstre com exemplos as implicações desta afirmação\n",
    "\n",
    "Como as variáveis númericas são imutáveis não é possível mudar os valores armazenados na variável mas, apenas, mudar para qual espaço da memória está sendo referenciado."
   ]
  },
  {
   "cell_type": "code",
   "execution_count": 108,
   "metadata": {},
   "outputs": [
    {
     "name": "stdout",
     "output_type": "stream",
     "text": [
      "Temos então que: \n",
      "num1 = 100 e num2 = 100\n",
      "Se mudamos o valor de num1 o seguinte acontece: \n",
      "Agora num1 = 150 enquanto num2 = 100\n"
     ]
    }
   ],
   "source": [
    "# Exemplo com variáveis imutáveis\n",
    "num1 = 100 # num1 faz referência um inteiro\n",
    "num2 = num1 # num2 faz referência ao mesmo espaço na memória de num1\n",
    "print(\"Temos então que: \")\n",
    "print(\"num1 =\", num1, \"e\", \"num2 =\", num2)\n",
    "print(\"Se mudamos o valor de num1 o seguinte acontece: \")\n",
    "num1 += 50\n",
    "print(\"Agora num1 =\", num1, \"enquanto num2 =\", num2)"
   ]
  },
  {
   "cell_type": "markdown",
   "metadata": {},
   "source": [
    "Como alteramos o valor de num1, um novo espaço na memória foi alocado com o novo valor de num1 e agora num1 aponta para essse espaço.\n",
    "\n",
    "Mas num2 ainda aponta para o endereço antigo de num1, pois só num1 foi alterado. Como resultado apenas o valor de num1 muda, mesmo que anteriormente nós tenhamos dito que num2 = num1\n",
    "\n",
    "# 3 - Manipulação de variáveis de tipo string e explorando o uso de print\n",
    "\n",
    "## 3.1 - Imprima na tela, utilizando print, cada um dos caracteres numéricos e seu correspondente código numérico. Pesquise como modificar o comportamento do print para imprimir como caractere e como número.\n"
   ]
  },
  {
   "cell_type": "code",
   "execution_count": 109,
   "metadata": {},
   "outputs": [
    {
     "name": "stdout",
     "output_type": "stream",
     "text": [
      "Numero: 0 | Código: 48\n",
      "Numero: 1 | Código: 49\n",
      "Numero: 2 | Código: 50\n",
      "Numero: 3 | Código: 51\n",
      "Numero: 4 | Código: 52\n",
      "Numero: 5 | Código: 53\n",
      "Numero: 6 | Código: 54\n",
      "Numero: 7 | Código: 55\n",
      "Numero: 8 | Código: 56\n",
      "Numero: 9 | Código: 57\n"
     ]
    }
   ],
   "source": [
    "for i in range(ord('0'), ord('9') + 1):\n",
    "    print(\"Numero:\", chr(i), \"| Código:\", i)"
   ]
  },
  {
   "cell_type": "markdown",
   "metadata": {},
   "source": [
    "## 3.2 - Modifique o exercício anterior para que a saída imprima também o código numérico em octal e em hexadecimal.\n"
   ]
  },
  {
   "cell_type": "code",
   "execution_count": 110,
   "metadata": {},
   "outputs": [
    {
     "name": "stdout",
     "output_type": "stream",
     "text": [
      "Numero: 0 | Código: 48 | Octal: 0o60 | Hexadecimal: 0x30\n",
      "Numero: 1 | Código: 49 | Octal: 0o61 | Hexadecimal: 0x31\n",
      "Numero: 2 | Código: 50 | Octal: 0o62 | Hexadecimal: 0x32\n",
      "Numero: 3 | Código: 51 | Octal: 0o63 | Hexadecimal: 0x33\n",
      "Numero: 4 | Código: 52 | Octal: 0o64 | Hexadecimal: 0x34\n",
      "Numero: 5 | Código: 53 | Octal: 0o65 | Hexadecimal: 0x35\n",
      "Numero: 6 | Código: 54 | Octal: 0o66 | Hexadecimal: 0x36\n",
      "Numero: 7 | Código: 55 | Octal: 0o67 | Hexadecimal: 0x37\n",
      "Numero: 8 | Código: 56 | Octal: 0o70 | Hexadecimal: 0x38\n",
      "Numero: 9 | Código: 57 | Octal: 0o71 | Hexadecimal: 0x39\n"
     ]
    }
   ],
   "source": [
    "for i in range(ord('0'), ord('9') + 1):\n",
    "    print(\"Numero:\", chr(i), \"| Código:\", i, \"| Octal:\", oct(i), \"| Hexadecimal:\", hex(i))"
   ]
  },
  {
   "cell_type": "markdown",
   "metadata": {},
   "source": [
    "## 3.3 - Acrescente ao código do exercício anterior a possibilidade de ler um caractere qualquer e imprima no mesmo formato do inciso anterior. Pesquise como ler um valor da entrada padrão."
   ]
  },
  {
   "cell_type": "code",
   "execution_count": 111,
   "metadata": {},
   "outputs": [
    {
     "name": "stdout",
     "output_type": "stream",
     "text": [
      "Numero: 0 | Código: 48 | Octal: 0o60 | Hexadecimal: 0x30\n",
      "Numero: 1 | Código: 49 | Octal: 0o61 | Hexadecimal: 0x31\n",
      "Numero: 2 | Código: 50 | Octal: 0o62 | Hexadecimal: 0x32\n",
      "Numero: 3 | Código: 51 | Octal: 0o63 | Hexadecimal: 0x33\n",
      "Numero: 4 | Código: 52 | Octal: 0o64 | Hexadecimal: 0x34\n",
      "Numero: 5 | Código: 53 | Octal: 0o65 | Hexadecimal: 0x35\n",
      "Numero: 6 | Código: 54 | Octal: 0o66 | Hexadecimal: 0x36\n",
      "Numero: 7 | Código: 55 | Octal: 0o67 | Hexadecimal: 0x37\n",
      "Numero: 8 | Código: 56 | Octal: 0o70 | Hexadecimal: 0x38\n",
      "Numero: 9 | Código: 57 | Octal: 0o71 | Hexadecimal: 0x39\n",
      "Caractere: a | Código: 97 | Octal: 0o141 | Hexadecimal: 0x61\n"
     ]
    }
   ],
   "source": [
    "for i in range(ord('0'), ord('9') + 1):\n",
    "    print(\"Numero:\", chr(i), \"| Código:\", i, \"| Octal:\", oct(i), \"| Hexadecimal:\", hex(i))\n",
    "\n",
    "caractere = input(\"Digite um caractere\")\n",
    "codCaractere = ord(caractere)\n",
    "\n",
    "print(\"Caractere:\", caractere, \"| Código:\", codCaractere, \"| Octal:\", oct(codCaractere), \"| Hexadecimal:\", hex(codCaractere))"
   ]
  },
  {
   "cell_type": "markdown",
   "metadata": {},
   "source": [
    "## 3.4 - Pesquise como trabalha Python os caracteres especiais, ‘ç’ e ‘ã’ por exemplo. Acrescente no código do exercício anterior um exemplo que demonstra como usar este recurso.\n",
    "\n",
    "Em Python, os caracteres especiais como 'ç' e 'ã' são tratados de forma natural, assim como qualquer outro caractere.\n",
    "\n",
    "No código abaixo é feito um teste com \"ç\" e \"a\" e solicitado que o usuário digite um caractere, se o caractere digitado for especial ele também retorna o código decimal, octal e hexadecimal."
   ]
  },
  {
   "cell_type": "code",
   "execution_count": 112,
   "metadata": {},
   "outputs": [
    {
     "name": "stdout",
     "output_type": "stream",
     "text": [
      "Caractere: ç | Código: 231 | Octal: 0o347 | Hexadecimal: 0xe7\n",
      "Caractere: ã | Código: 227 | Octal: 0o343 | Hexadecimal: 0xe3\n",
      "Caractere: b | Código: 98 | Octal: 0o142 | Hexadecimal: 0x62\n"
     ]
    }
   ],
   "source": [
    "code = ord('ç')\n",
    "print(\"Caractere:\", \"ç\", \"| Código:\", code, \"| Octal:\", oct(code), \"| Hexadecimal:\", hex(code))\n",
    "\n",
    "code = ord('ã')\n",
    "print(\"Caractere:\", \"ã\", \"| Código:\", code, \"| Octal:\", oct(code), \"| Hexadecimal:\", hex(code))\n",
    "\n",
    "caractere = input(\"Digite um caractere\")\n",
    "codCaractere = ord(caractere)\n",
    "\n",
    "print(\"Caractere:\", caractere, \"| Código:\", codCaractere, \"| Octal:\", oct(codCaractere), \"| Hexadecimal:\", hex(codCaractere))"
   ]
  },
  {
   "cell_type": "markdown",
   "metadata": {},
   "source": [
    "# 4 - Manipulação de variáveis de tipo string e explorando os métodos da classe.\n",
    "\n",
    "## 4.1 - Crie um exemplo onde declare uma variável nome atribuindo a ela seu nome completo\n"
   ]
  },
  {
   "cell_type": "code",
   "execution_count": 113,
   "metadata": {},
   "outputs": [
    {
     "name": "stdout",
     "output_type": "stream",
     "text": [
      "Breno Carvalho Rios\n"
     ]
    }
   ],
   "source": [
    "nome = \"Breno Carvalho Rios\"\n",
    "print(nome)"
   ]
  },
  {
   "cell_type": "markdown",
   "metadata": {},
   "source": [
    "## 4.1 - Pesquise por funcionalidades já implementadas nas strings e separe em duas variáveis novas seu nome do seu sobrenome\n"
   ]
  },
  {
   "cell_type": "code",
   "execution_count": 114,
   "metadata": {},
   "outputs": [
    {
     "name": "stdout",
     "output_type": "stream",
     "text": [
      "Nome: Breno\n",
      "Sobrenome: Carvalho Rios\n"
     ]
    }
   ],
   "source": [
    "primeiro_nome = nome.split(\" \")[0]\n",
    "sobrenome = ' '.join(nome.split(\" \")[1:])\n",
    "\n",
    "print(\"Nome:\", primeiro_nome)\n",
    "print(\"Sobrenome:\", sobrenome)"
   ]
  },
  {
   "cell_type": "markdown",
   "metadata": {},
   "source": [
    "## 4.2 - Verifique qual das duas novas variáveis antecede a outra na ordem alfabética"
   ]
  },
  {
   "cell_type": "code",
   "execution_count": 115,
   "metadata": {},
   "outputs": [
    {
     "name": "stdout",
     "output_type": "stream",
     "text": [
      "Em ordem alfabética, o nome antecede o sobrenome.\n"
     ]
    }
   ],
   "source": [
    "if primeiro_nome < sobrenome:\n",
    "    print(\"Em ordem alfabética, o nome antecede o sobrenome.\")\n",
    "else:\n",
    "    print(\"Em ordem alfabética, o sobrenome antecede o nome.\")"
   ]
  },
  {
   "cell_type": "markdown",
   "metadata": {},
   "source": [
    "## 4.3 - Verifique a quantidade de caracteres de cada uma das novas variáveis"
   ]
  },
  {
   "cell_type": "code",
   "execution_count": 116,
   "metadata": {},
   "outputs": [
    {
     "name": "stdout",
     "output_type": "stream",
     "text": [
      "O nome possui 5 caracteres\n",
      "O sobrenome possui 13 caracteres\n"
     ]
    }
   ],
   "source": [
    "print(\"O nome possui\", len(primeiro_nome), \"caracteres\")\n",
    "print(\"O sobrenome possui\", len(sobrenome), \"caracteres\")"
   ]
  },
  {
   "cell_type": "markdown",
   "metadata": {},
   "source": [
    "## 4.4 - Verifique se seu nome é uma palíndromo"
   ]
  },
  {
   "cell_type": "code",
   "execution_count": 117,
   "metadata": {},
   "outputs": [
    {
     "name": "stdout",
     "output_type": "stream",
     "text": [
      "Seu nome não é um palíndromo\n"
     ]
    }
   ],
   "source": [
    "if(primeiro_nome == primeiro_nome[::-1]):\n",
    "    print(\"Seu nome é um palíndromo\")\n",
    "else:\n",
    "    print(\"Seu nome não é um palíndromo\")"
   ]
  },
  {
   "cell_type": "markdown",
   "metadata": {},
   "source": [
    "# 5 - Manipulação de variáveis de ponto flutuante, explorando as características e os limites.\n"
   ]
  },
  {
   "cell_type": "markdown",
   "metadata": {},
   "source": [
    "## 5.1 - Demonstre como funcionam os operadores aritméticos e aritméticos compostos em Python\n",
    "\n",
    "Os operadores aritméticos em Python são usados para realizar operações aritméticas básicas, como soma, subtração, multiplicação, divisão e módulo.\n",
    "\n",
    "Os seguintes operadores aritméticos estão disponíveis em Python:\n",
    "\n",
    "### Soma"
   ]
  },
  {
   "cell_type": "code",
   "execution_count": 119,
   "metadata": {},
   "outputs": [
    {
     "name": "stdout",
     "output_type": "stream",
     "text": [
      "19.7\n"
     ]
    }
   ],
   "source": [
    "a = 12.5\n",
    "b = 7.2\n",
    "\n",
    "# Soma\n",
    "soma = a + b\n",
    "print(soma) # 19.7"
   ]
  },
  {
   "cell_type": "markdown",
   "metadata": {},
   "source": [
    "### Subtração"
   ]
  },
  {
   "cell_type": "code",
   "execution_count": 120,
   "metadata": {},
   "outputs": [
    {
     "name": "stdout",
     "output_type": "stream",
     "text": [
      "5.3\n"
     ]
    }
   ],
   "source": [
    "a = 12.5\n",
    "b = 7.2\n",
    "\n",
    "# Subtração\n",
    "subtracao = a - b\n",
    "print(subtracao) # 5.3"
   ]
  },
  {
   "cell_type": "markdown",
   "metadata": {},
   "source": [
    "### Multiplicação"
   ]
  },
  {
   "cell_type": "code",
   "execution_count": 121,
   "metadata": {},
   "outputs": [
    {
     "name": "stdout",
     "output_type": "stream",
     "text": [
      "90.0\n"
     ]
    }
   ],
   "source": [
    "a = 12.5\n",
    "b = 7.2\n",
    "\n",
    "multiplicacao = a * b\n",
    "print(multiplicacao) # 90.0"
   ]
  },
  {
   "cell_type": "markdown",
   "metadata": {},
   "source": [
    "### Divisão"
   ]
  },
  {
   "cell_type": "code",
   "execution_count": 124,
   "metadata": {},
   "outputs": [
    {
     "name": "stdout",
     "output_type": "stream",
     "text": [
      "4.0\n"
     ]
    }
   ],
   "source": [
    "a = 22.5\n",
    "b = 5.625\n",
    "\n",
    "divisao = a / b\n",
    "print(divisao) # 4.0"
   ]
  },
  {
   "cell_type": "markdown",
   "metadata": {},
   "source": [
    "### Divisão Inteira"
   ]
  },
  {
   "cell_type": "code",
   "execution_count": 126,
   "metadata": {},
   "outputs": [
    {
     "name": "stdout",
     "output_type": "stream",
     "text": [
      "7.0\n"
     ]
    }
   ],
   "source": [
    "a = 22.5\n",
    "b = 3.2\n",
    "\n",
    "divisaoInteira = a // b\n",
    "print(divisaoInteira) # 7.0\n",
    "# Divisão normal: 7.03125"
   ]
  },
  {
   "cell_type": "markdown",
   "metadata": {},
   "source": [
    "### Módulo (resto da divisão)"
   ]
  },
  {
   "cell_type": "code",
   "execution_count": 127,
   "metadata": {},
   "outputs": [
    {
     "name": "stdout",
     "output_type": "stream",
     "text": [
      "0.09999999999999876\n"
     ]
    }
   ],
   "source": [
    "a = 22.5\n",
    "b = 3.2\n",
    "\n",
    "modulo = a % b\n",
    "print(modulo) # 0.09999999999999876"
   ]
  },
  {
   "cell_type": "markdown",
   "metadata": {},
   "source": [
    "Os operadores aritméticos compostos em Python são usados para realizar operações aritméticas de forma abreviada.\n",
    "\n",
    "Os seguintes operadores aritméticos compostos estão disponíveis em Python:\n",
    "\n",
    "### Soma e Atribuição"
   ]
  },
  {
   "cell_type": "code",
   "execution_count": 128,
   "metadata": {},
   "outputs": [
    {
     "name": "stdout",
     "output_type": "stream",
     "text": [
      "19.7\n"
     ]
    }
   ],
   "source": [
    "a = 12.5\n",
    "b = 7.2\n",
    "\n",
    "# Soma e atribui\n",
    "a += b\n",
    "print(a) # 19.7"
   ]
  },
  {
   "cell_type": "markdown",
   "metadata": {},
   "source": [
    "### Subtração e Atribuição"
   ]
  },
  {
   "cell_type": "code",
   "execution_count": 129,
   "metadata": {},
   "outputs": [
    {
     "name": "stdout",
     "output_type": "stream",
     "text": [
      "5.3\n"
     ]
    }
   ],
   "source": [
    "a = 12.5\n",
    "b = 7.2\n",
    "\n",
    "# Subtrai e atribui\n",
    "a -= b\n",
    "print(a) # 5.3"
   ]
  },
  {
   "cell_type": "markdown",
   "metadata": {},
   "source": [
    "### Multiplicação e Atribuição"
   ]
  },
  {
   "cell_type": "code",
   "execution_count": 130,
   "metadata": {},
   "outputs": [
    {
     "name": "stdout",
     "output_type": "stream",
     "text": [
      "90.0\n"
     ]
    }
   ],
   "source": [
    "a = 12.5\n",
    "b = 7.2\n",
    "\n",
    "# Multiplica e atribui\n",
    "a *= b\n",
    "print(a) # 90.0"
   ]
  },
  {
   "cell_type": "markdown",
   "metadata": {},
   "source": [
    "### Divisão e Atribuição"
   ]
  },
  {
   "cell_type": "code",
   "execution_count": 132,
   "metadata": {},
   "outputs": [
    {
     "name": "stdout",
     "output_type": "stream",
     "text": [
      "7.0\n"
     ]
    }
   ],
   "source": [
    "a = 22.5\n",
    "b = 3.2\n",
    "\n",
    "# Divide e atribui\n",
    "a /= b\n",
    "print(a) # 7.03125"
   ]
  },
  {
   "cell_type": "markdown",
   "metadata": {},
   "source": [
    "### Divisão Inteira e Atribuição"
   ]
  },
  {
   "cell_type": "code",
   "execution_count": 133,
   "metadata": {},
   "outputs": [
    {
     "name": "stdout",
     "output_type": "stream",
     "text": [
      "7.0\n"
     ]
    }
   ],
   "source": [
    "a = 22.5\n",
    "b = 3.2\n",
    "\n",
    "# Divisão inteira e atribui\n",
    "a //= b\n",
    "print(a) # 7.0\n",
    "# Divisão Normal: 7.03125"
   ]
  },
  {
   "cell_type": "markdown",
   "metadata": {},
   "source": [
    "### Módulo (resto da divisão) e Atribuição"
   ]
  },
  {
   "cell_type": "code",
   "execution_count": 135,
   "metadata": {},
   "outputs": [
    {
     "name": "stdout",
     "output_type": "stream",
     "text": [
      "0.09999999999999876\n"
     ]
    }
   ],
   "source": [
    "a = 22.5\n",
    "b = 3.2\n",
    "\n",
    "# Módulo e atribui\n",
    "a %= b\n",
    "print(a) # 0.09999999999999876"
   ]
  },
  {
   "cell_type": "markdown",
   "metadata": {},
   "source": [
    "É importante observar que durante algumas operações o resultado não é exatamente o esperado. Isso se dá devido devido à representação binária dos números de ponto flutuante e a imprecisão associada a essa representação. Como os números usados não podem ser representados exatamente na forma binária de ponto flutuante, pode ocorrer uma pequena imprecisão nos resultados.\n",
    "\n",
    "Um exemplo pode ser observado abaixo:"
   ]
  },
  {
   "cell_type": "code",
   "execution_count": 146,
   "metadata": {},
   "outputs": [
    {
     "name": "stdout",
     "output_type": "stream",
     "text": [
      "False\n"
     ]
    }
   ],
   "source": [
    "a = 0.1 + 0.2\n",
    "b = 0.3\n",
    "\n",
    "print(a == b)  # Resultado: False"
   ]
  },
  {
   "cell_type": "markdown",
   "metadata": {},
   "source": [
    "## 5.2 - Utilizando o operador de exponenciação mostre qual a maior e a menor potência de 2 que pode ser representada com variáveis de ponto flutuante."
   ]
  },
  {
   "cell_type": "code",
   "execution_count": 148,
   "metadata": {},
   "outputs": [
    {
     "name": "stdout",
     "output_type": "stream",
     "text": [
      "Maior potência de 2 representável: 521481209941628438084722096232800809229175908778479680162851955034721612739414196782949728256\n",
      "Menor potência de 2 representável: 3.835229269763849e-93\n"
     ]
    }
   ],
   "source": [
    "import sys\n",
    "\n",
    "# Maior potência de 2 representável\n",
    "maior_potencia = sys.float_info.max_10_exp\n",
    "\n",
    "# Menor potência de 2 representável\n",
    "menor_potencia = sys.float_info.min_10_exp\n",
    "\n",
    "# Imprimir resultados\n",
    "print(\"Maior potência de 2 representável:\", 2 ** maior_potencia)\n",
    "print(\"Menor potência de 2 representável:\", 2 ** menor_potencia)"
   ]
  },
  {
   "cell_type": "markdown",
   "metadata": {},
   "source": [
    "## 5.3 - As variáveis numéricas são imutáveis. Demonstre com exemplos as implicações desta afirmação\n",
    "\n",
    "Como as variáveis númericas são imutáveis não é possível mudar os valores armazenados na variável mas, apenas, mudar para qual espaço da memória está sendo referenciado."
   ]
  },
  {
   "cell_type": "code",
   "execution_count": 149,
   "metadata": {},
   "outputs": [
    {
     "name": "stdout",
     "output_type": "stream",
     "text": [
      "Temos então que: \n",
      "num1 = 102.9 e num2 = 102.9\n",
      "Se mudamos o valor de num1 o seguinte acontece: \n",
      "Agora num1 = 106.156 enquanto num2 = 102.9\n"
     ]
    }
   ],
   "source": [
    "# Exemplo com variáveis imutáveis\n",
    "num1 = 102.9 # num1 faz referência um inteiro\n",
    "num2 = num1 # num2 faz referência ao mesmo espaço na memória de num1\n",
    "print(\"Temos então que: \")\n",
    "print(\"num1 =\", num1, \"e\", \"num2 =\", num2)\n",
    "print(\"Se mudamos o valor de num1 o seguinte acontece: \")\n",
    "num1 += 3.256\n",
    "print(\"Agora num1 =\", num1, \"enquanto num2 =\", num2)"
   ]
  },
  {
   "cell_type": "markdown",
   "metadata": {},
   "source": [
    "Como alteramos o valor de num1, um novo espaço na memória foi alocado com o novo valor de num1 e agora num1 aponta para essse espaço.\n",
    "\n",
    "Mas num2 ainda aponta para o endereço antigo de num1, pois só num1 foi alterado. Como resultado apenas o valor de num1 muda, mesmo que anteriormente nós tenhamos dito que num2 = num1\n"
   ]
  },
  {
   "cell_type": "markdown",
   "metadata": {},
   "source": [
    "# 6 - Manipulando listas\n",
    "\n",
    "## 6.1 - Veja o que será impresso em cada caso."
   ]
  },
  {
   "cell_type": "code",
   "execution_count": 151,
   "metadata": {},
   "outputs": [
    {
     "name": "stdout",
     "output_type": "stream",
     "text": [
      "[9, 8, 7, 6, 5, 4, 3, 2, 1]\n",
      "[9]\n",
      "[1, 2, 3, 4, 5, 6, 7, 8]\n",
      "[9, 7, 5, 3, 1]\n",
      "[8, 9]\n",
      "[1, 2, 3, 4, 5, 6, 7]\n"
     ]
    }
   ],
   "source": [
    "L = [1, 2, 3, 4, 5, 6, 7, 8, 9]\n",
    "print(L[::-1])\n",
    "print(L[-1::])\n",
    "print(L[:-1:])\n",
    "print(L[::-2])\n",
    "print(L[-2::])\n",
    "print(L[:-2:])"
   ]
  },
  {
   "cell_type": "markdown",
   "metadata": {},
   "source": [
    "## 6.2 | 6.3 - Descubra qual o signo de um usuário de acordo com seu ano de nascimento."
   ]
  },
  {
   "cell_type": "code",
   "execution_count": 150,
   "metadata": {},
   "outputs": [
    {
     "name": "stdout",
     "output_type": "stream",
     "text": [
      "Seu signo é: Serpente\n"
     ]
    }
   ],
   "source": [
    "signos = {\n",
    "    0: \"Macaco\",\n",
    "    1: \"Galo\",\n",
    "    2: \"Cão\",\n",
    "    3: \"Porco\",\n",
    "    4: \"Rato\",\n",
    "    5: \"Boi\",\n",
    "    6: \"Tigre\",\n",
    "    7: \"Coelho\",\n",
    "    8: \"Dragão\",\n",
    "    9: \"Serpente\",\n",
    "    10: \"Cavalo\",\n",
    "    11: \"Carneiro\"\n",
    "}\n",
    "\n",
    "nascimento = int(input(\"Digite seu ano de nascimento\"))\n",
    "print(\"Seu signo é:\", signos[nascimento % 12])"
   ]
  }
 ],
 "metadata": {
  "kernelspec": {
   "display_name": "Python 3",
   "language": "python",
   "name": "python3"
  },
  "language_info": {
   "codemirror_mode": {
    "name": "ipython",
    "version": 3
   },
   "file_extension": ".py",
   "mimetype": "text/x-python",
   "name": "python",
   "nbconvert_exporter": "python",
   "pygments_lexer": "ipython3",
   "version": "3.11.5"
  }
 },
 "nbformat": 4,
 "nbformat_minor": 2
}
